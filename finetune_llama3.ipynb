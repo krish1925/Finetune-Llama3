{
 "cells": [
  {
   "cell_type": "code",
   "execution_count": null,
   "metadata": {},
   "outputs": [],
   "source": [
    "#Using unsloth's python script to load the model\n",
    "\n",
    "from unsloth import FastLanguageModel\n",
    "import torch \n",
    "\n",
    "max_sequence_length = 2048\n",
    "\n",
    "load_in_4bit = True\n",
    "\n",
    "fourbit_model = [\"unsloth\"]\n",
    "\n",
    "model, tokenizer = FastLanguageModel.from_pretrained(\n",
    "    model_name = \"unsloth/llama-3-8b-bnb-4bit\",\n",
    "    max_seq_length = max_seq_length,\n",
    "    dtype = dtype,\n",
    "    load_in_4bit = load_in_4bit,\n",
    "    # token = \"hf_...\", # use one if using gated models like meta-llama/Llama-2-7b-hf\n",
    ")"
   ]
  }
 ],
 "metadata": {
  "language_info": {
   "name": "python"
  }
 },
 "nbformat": 4,
 "nbformat_minor": 2
}
